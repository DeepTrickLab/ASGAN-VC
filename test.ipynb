{
 "cells": [
  {
   "cell_type": "code",
   "execution_count": 1,
   "metadata": {},
   "outputs": [],
   "source": [
    "import importlib\n",
    "solver = getattr(importlib.import_module(f\"trainer.GAN\"), \"Solver\",)"
   ]
  },
  {
   "cell_type": "code",
   "execution_count": null,
   "metadata": {},
   "outputs": [],
   "source": []
  },
  {
   "cell_type": "code",
   "execution_count": 1,
   "metadata": {},
   "outputs": [],
   "source": [
    "import torch\n",
    "from factory.AgainVC import AgainVC"
   ]
  },
  {
   "cell_type": "code",
   "execution_count": 2,
   "metadata": {},
   "outputs": [],
   "source": [
    "build_config = {'model_name': 'again', 'model': {'params': {'encoder_params': {'c_in': 80, 'c_h': 256, 'c_out': 4, 'n_conv_blocks': 6, 'subsample': [1, 1, 1, 1, 1, 1]}, 'decoder_params': {'c_in': 4, 'c_h': 256, 'c_out': 80, 'n_conv_blocks': 6, 'upsample': [1, 1, 1, 1, 1, 1]}, 'activation_params': {'act': 'sigmoid', 'params': {'alpha': 0.1}}}}, 'optimizer': {'params': {'lr': 0.0005, 'betas': [0.9, 0.999], 'amsgrad': True, 'weight_decay': 0.0001}, 'grad_norm': 3}}"
   ]
  },
  {
   "cell_type": "code",
   "execution_count": 7,
   "metadata": {},
   "outputs": [
    {
     "data": {
      "text/plain": [
       "<All keys matched successfully>"
      ]
     },
     "execution_count": 7,
     "metadata": {},
     "output_type": "execute_result"
    }
   ],
   "source": [
    "VC = AgainVC(**build_config['model']['params']).to(\"cuda:0\")\n",
    "VC.load_state_dict(torch.load(\"model/againvc.pt\",map_location=\"cuda:0\"))"
   ]
  },
  {
   "cell_type": "code",
   "execution_count": null,
   "metadata": {},
   "outputs": [],
   "source": [
    "agi"
   ]
  },
  {
   "cell_type": "code",
   "execution_count": null,
   "metadata": {},
   "outputs": [],
   "source": []
  },
  {
   "cell_type": "code",
   "execution_count": null,
   "metadata": {},
   "outputs": [],
   "source": []
  },
  {
   "cell_type": "code",
   "execution_count": 28,
   "metadata": {},
   "outputs": [
    {
     "name": "stdout",
     "output_type": "stream",
     "text": [
      "a\n",
      "[1]\n",
      "[0]\n"
     ]
    }
   ],
   "source": [
    "d1 = {'a':[1],'b':[3],'c':[1]}\n",
    "d2 = {'a':[0],'b':[1],'c':[11]}\n",
    "for k,item in enumerate(d1.items()):\n",
    "    emb1= item\n",
    "    key,item = emb1\n",
    "    #print(emb2)\n",
    "    print(key)\n",
    "    print(item)\n",
    "    print(d2[key])\n",
    "    break"
   ]
  },
  {
   "cell_type": "code",
   "execution_count": null,
   "metadata": {},
   "outputs": [],
   "source": []
  },
  {
   "cell_type": "code",
   "execution_count": 21,
   "metadata": {},
   "outputs": [],
   "source": [
    "import torch\n",
    "import numpy as np\n",
    "def get_mel(mels, seq_len, device):\n",
    "    # input -> (len,80)\n",
    "    mel, tmp_m = [], []\n",
    "    pad_size, last_len = 0, 0\n",
    "    for i in range(0, mels.shape[0], seq_len):\n",
    "       \n",
    "        if i + seq_len <= mels.shape[0]:\n",
    "            print(i)\n",
    "            mel.append(\n",
    "                torch.from_numpy(mels[i : i + seq_len, :]).unsqueeze(0).to(device)\n",
    "            )\n",
    "            last_len = i + seq_len\n",
    "\n",
    "    if (mels.shape[0] - last_len) > 30:\n",
    "        pad_size = int((last_len + seq_len) - mels.shape[0])\n",
    "        npad = [(0, 0)] * 2\n",
    "        npad[0] = (0, pad_size)\n",
    "        tmp_m = np.pad(\n",
    "            mels[last_len:, :], pad_width=npad, mode=\"constant\", constant_values=0\n",
    "        )\n",
    "        mel.append(torch.from_numpy(tmp_m).unsqueeze(0).to(device))\n",
    "\n",
    "    return mel, pad_size"
   ]
  },
  {
   "cell_type": "code",
   "execution_count": 22,
   "metadata": {},
   "outputs": [
    {
     "name": "stdout",
     "output_type": "stream",
     "text": [
      "0\n",
      "128\n",
      "torch.Size([1, 128, 80])\n",
      "torch.Size([1, 128, 80])\n",
      "torch.Size([1, 128, 80])\n"
     ]
    }
   ],
   "source": [
    "mels = np.ones((352,80))\n",
    "mel, pad_size = get_mel(mels, 128, \"cpu\")\n",
    "for m in mel:\n",
    "    print(m.shape)"
   ]
  },
  {
   "cell_type": "code",
   "execution_count": null,
   "metadata": {},
   "outputs": [],
   "source": []
  },
  {
   "cell_type": "code",
   "execution_count": 3,
   "metadata": {},
   "outputs": [],
   "source": [
    "import torch \n",
    "codes = [torch.rand(1,64)]*8\n",
    "tmp = []\n",
    "for code in codes:\n",
    "    tmp.append(code.unsqueeze(1).expand(-1, int(128 / len(codes)), -1))\n",
    "code_exp = torch.cat(tmp, dim=1)"
   ]
  },
  {
   "cell_type": "code",
   "execution_count": 4,
   "metadata": {},
   "outputs": [
    {
     "data": {
      "text/plain": [
       "torch.Size([1, 128, 64])"
      ]
     },
     "execution_count": 4,
     "metadata": {},
     "output_type": "execute_result"
    }
   ],
   "source": [
    "code_exp.shape"
   ]
  },
  {
   "cell_type": "code",
   "execution_count": null,
   "metadata": {},
   "outputs": [],
   "source": []
  },
  {
   "cell_type": "code",
   "execution_count": 40,
   "metadata": {},
   "outputs": [],
   "source": [
    "import random\n",
    "import numpy as np\n",
    "from thirdparty.DeepSpeaker.util.audio import read_mfcc,Audio\n",
    "from thirdparty.DeepSpeaker.util.batcher import sample_from_mfcc\n",
    "from thirdparty.DeepSpeaker.util.constants import SAMPLE_RATE, NUM_FRAMES\n",
    "from thirdparty.DeepSpeaker.util.conv_models import DeepSpeakerModel\n",
    "from thirdparty.DeepSpeaker.util.test import batch_cosine_similarity"
   ]
  },
  {
   "cell_type": "code",
   "execution_count": 13,
   "metadata": {},
   "outputs": [
    {
     "data": {
      "text/plain": [
       "(87109,)"
      ]
     },
     "execution_count": 13,
     "metadata": {},
     "output_type": "execute_result"
    }
   ],
   "source": [
    "waves = Audio.read(f'{ROOT}/samples/p225_014_mic1.flac' ,SAMPLE_RATE)\n",
    "waves.shape"
   ]
  },
  {
   "cell_type": "code",
   "execution_count": 2,
   "metadata": {},
   "outputs": [],
   "source": [
    "np.random.seed(123)\n",
    "random.seed(123)"
   ]
  },
  {
   "cell_type": "code",
   "execution_count": 3,
   "metadata": {},
   "outputs": [],
   "source": [
    "ROOT = 'thirdparty/DeepSpeaker'"
   ]
  },
  {
   "cell_type": "code",
   "execution_count": 4,
   "metadata": {},
   "outputs": [],
   "source": [
    "model = DeepSpeakerModel()"
   ]
  },
  {
   "cell_type": "code",
   "execution_count": 5,
   "metadata": {},
   "outputs": [],
   "source": [
    "model.m.load_weights(f'{ROOT}/model/ResCNN_triplet_training_checkpoint_265.h5', by_name=True)"
   ]
  },
  {
   "cell_type": "code",
   "execution_count": 6,
   "metadata": {},
   "outputs": [],
   "source": [
    "mfcc_001 = sample_from_mfcc(read_mfcc(f'{ROOT}/samples/PhilippeRemy/PhilippeRemy_001.wav', SAMPLE_RATE), NUM_FRAMES)\n",
    "mfcc_002 = sample_from_mfcc(read_mfcc(f'{ROOT}/samples/PhilippeRemy/PhilippeRemy_002.wav', SAMPLE_RATE), NUM_FRAMES)\n",
    "mfcc_003 = sample_from_mfcc(read_mfcc(f'{ROOT}/samples/1255-90413-0001.flac', SAMPLE_RATE), NUM_FRAMES)\n",
    "mfcc_004 = sample_from_mfcc(read_mfcc(f'{ROOT}/samples/p225_014_mic1.flac', SAMPLE_RATE), NUM_FRAMES)"
   ]
  },
  {
   "cell_type": "code",
   "execution_count": 7,
   "metadata": {},
   "outputs": [],
   "source": [
    "predict_001 = model.m.predict(np.expand_dims(mfcc_001, axis=0))\n",
    "predict_002 = model.m.predict(np.expand_dims(mfcc_002, axis=0))\n",
    "predict_003 = model.m.predict(np.expand_dims(mfcc_003, axis=0))\n",
    "predict_004 = model.m.predict(np.expand_dims(mfcc_004, axis=0))"
   ]
  },
  {
   "cell_type": "code",
   "execution_count": 8,
   "metadata": {},
   "outputs": [
    {
     "name": "stdout",
     "output_type": "stream",
     "text": [
      "SAME SPEAKER [0.8112024]\n",
      "DIFF SPEAKER [0.02534031]\n",
      "DIFF SPEAKER [0.18882789]\n"
     ]
    }
   ],
   "source": [
    "print('SAME SPEAKER', batch_cosine_similarity(predict_001, predict_002))\n",
    "print('DIFF SPEAKER', batch_cosine_similarity(predict_001, predict_003)) \n",
    "print('DIFF SPEAKER', batch_cosine_similarity(predict_001, predict_004)) "
   ]
  },
  {
   "cell_type": "code",
   "execution_count": 9,
   "metadata": {},
   "outputs": [
    {
     "name": "stdout",
     "output_type": "stream",
     "text": [
      "DIFF SPEAKER [0.09595115]\n"
     ]
    }
   ],
   "source": [
    "print('DIFF SPEAKER', batch_cosine_similarity(predict_003, predict_004)) "
   ]
  }
 ],
 "metadata": {
  "kernelspec": {
   "display_name": "Python 3",
   "language": "python",
   "name": "python3"
  },
  "language_info": {
   "codemirror_mode": {
    "name": "ipython",
    "version": 3
   },
   "file_extension": ".py",
   "mimetype": "text/x-python",
   "name": "python",
   "nbconvert_exporter": "python",
   "pygments_lexer": "ipython3",
   "version": "3.7.9"
  }
 },
 "nbformat": 4,
 "nbformat_minor": 4
}
