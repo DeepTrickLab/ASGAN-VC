{
 "cells": [
  {
   "cell_type": "code",
   "execution_count": 1,
   "metadata": {},
   "outputs": [],
   "source": [
    "import pickle\n",
    "import os\n",
    "import torch\n",
    "import numpy as np\n",
    "from util.evaluate import Evaluator\n",
    "from sklearn import metrics\n",
    "from sklearn.metrics import auc"
   ]
  },
  {
   "cell_type": "code",
   "execution_count": 2,
   "metadata": {},
   "outputs": [],
   "source": [
    "device = \"cuda:0\""
   ]
  },
  {
   "cell_type": "code",
   "execution_count": 3,
   "metadata": {},
   "outputs": [
    {
     "data": {
      "text/plain": [
       "<All keys matched successfully>"
      ]
     },
     "execution_count": 3,
     "metadata": {},
     "output_type": "execute_result"
    }
   ],
   "source": [
    "from factory.MetaDV import MetaDV\n",
    "C = MetaDV(80,256).to(device)\n",
    "C.load_state_dict(torch.load(\"model/static/metadv_vctk80.pth\",map_location=device))"
   ]
  },
  {
   "cell_type": "code",
   "execution_count": 4,
   "metadata": {},
   "outputs": [],
   "source": [
    "import json\n",
    "json_config = json.load(open(\"config.json\"))"
   ]
  },
  {
   "cell_type": "code",
   "execution_count": 5,
   "metadata": {},
   "outputs": [],
   "source": [
    "class Config:\n",
    "    def __init__(self,root):\n",
    "        self.root = root\n",
    "        self.device = device\n",
    "        self.embedder = C\n",
    "        self.metadata = pickle.load(open(f'{root}/train.pkl', \"rb\"))\n",
    "        self.num_speaker = json_config[\"eval_speaker\"]\n",
    "        self.batch_size = json_config[\"batch_size\"]\n",
    "        self.erroment_num = json_config[\"erroment_num\"]\n",
    "        self.max_uttr_idx = json_config[\"num_uttr\"] - 1\n",
    "        self.len_crop = json_config[\"len_crop\"]\n",
    "        self.pick_speaker = json_config[\"pick_speaker\"]"
   ]
  },
  {
   "cell_type": "code",
   "execution_count": 7,
   "metadata": {},
   "outputs": [],
   "source": [
    "config = Config('train_spmel_vctk80')"
   ]
  },
  {
   "cell_type": "code",
   "execution_count": 8,
   "metadata": {
    "scrolled": true
   },
   "outputs": [
    {
     "name": "stdout",
     "output_type": "stream",
     "text": [
      "--- p227 in metadata ---\n",
      "--- p228 in metadata ---\n",
      "--- p229 in metadata ---\n",
      "Detect Embedder ! generate all Real Data d-vector\n",
      "Processing --- ID:0 Speaker:p227 ---\n",
      "Processing --- ID:1 Speaker:p228 ---\n",
      "Processing --- ID:2 Speaker:p229 ---\n",
      "Processing --- ID:0 Speaker:p227 ---\n",
      "Processing --- ID:1 Speaker:p228 ---\n",
      "Processing --- ID:2 Speaker:p229 ---\n"
     ]
    }
   ],
   "source": [
    "all_real_cos_result = []\n",
    "all_real_var_result = [] \n",
    "all_non_real_cos_result = []\n",
    "all_non_real_var_result = []\n",
    "all_yt, all_ys = [],[]\n",
    "\n",
    "for i in range(20):\n",
    "    E = Evaluator(config,seed=i)\n",
    "    real_cos_result, real_var_result = E.get_real_data_cos()\n",
    "    y_true, y_score = E.get_ytrue_yscore([real_cos_result])\n",
    "    for ele in y_true:\n",
    "        all_yt.append(ele)\n",
    "    for ele in y_score:\n",
    "        all_ys.append(ele)\n",
    "    ## Mean of 40 speaker Cos-similarity\n",
    "    all_real_cos_result.append(np.diagonal(real_cos_result).mean())\n",
    "    ## Mean of 40 speaker Cos-similarity Variance\n",
    "    all_real_var_result.append(np.diagonal(real_var_result).mean())\n",
    "    ##  Mean of 40 speaker Cos-similarity with non_source speaker embedding\n",
    "    all_non_real_cos_result.append((np.sum(real_cos_result) - (np.sum(np.diagonal(real_cos_result)))) /(config.num_speaker*(config.num_speaker-1)))\n",
    "    ##  Mean of 40 speaker Cos-similarity Variance with non_source speaker embedding\n",
    "    all_non_real_var_result.append((np.sum(real_var_result) - (np.sum(np.diagonal(real_var_result)))) /(config.num_speaker*(config.num_speaker-1)))\n",
    "fpr, tpr, thresholds = metrics.roc_curve(y_true, y_score)"
   ]
  },
  {
   "cell_type": "code",
   "execution_count": 9,
   "metadata": {},
   "outputs": [
    {
     "data": {
      "text/plain": [
       "(0.8173573017120361, 0.0)"
      ]
     },
     "execution_count": 9,
     "metadata": {},
     "output_type": "execute_result"
    }
   ],
   "source": [
    "np.array(all_real_cos_result).mean(),np.array(all_real_cos_result).std()"
   ]
  },
  {
   "cell_type": "code",
   "execution_count": 10,
   "metadata": {},
   "outputs": [
    {
     "data": {
      "text/plain": [
       "(0.09198160221179326, 0.0)"
      ]
     },
     "execution_count": 10,
     "metadata": {},
     "output_type": "execute_result"
    }
   ],
   "source": [
    "np.array(all_real_var_result).mean(),np.array(all_real_var_result).std()"
   ]
  },
  {
   "cell_type": "code",
   "execution_count": 11,
   "metadata": {},
   "outputs": [
    {
     "data": {
      "text/plain": [
       "(0.08181153719609331, 0.0)"
      ]
     },
     "execution_count": 11,
     "metadata": {},
     "output_type": "execute_result"
    }
   ],
   "source": [
    "np.array(all_non_real_cos_result).mean(),np.array(all_non_real_cos_result).std()"
   ]
  },
  {
   "cell_type": "code",
   "execution_count": 12,
   "metadata": {},
   "outputs": [
    {
     "data": {
      "text/plain": [
       "(0.038208672194741666, 0.0)"
      ]
     },
     "execution_count": 12,
     "metadata": {},
     "output_type": "execute_result"
    }
   ],
   "source": [
    "np.array(all_non_real_var_result).mean(),np.array(all_non_real_var_result).std()"
   ]
  },
  {
   "cell_type": "code",
   "execution_count": 13,
   "metadata": {},
   "outputs": [],
   "source": [
    "import csv\n",
    "with open(f\"realdata_result.csv\", \"w\", newline=\"\") as csvfile:\n",
    "    writer = csv.writer(csvfile)\n",
    "    writer.writerow(tpr)\n",
    "    writer.writerow(fpr)\n",
    "    writer.writerow(thresholds)\n",
    "    writer.writerow([auc(fpr, tpr),np.array(all_real_cos_result).mean(),np.array(all_real_cos_result).std(),np.array(all_non_real_cos_result).mean(),np.array(all_non_real_cos_result).std()])"
   ]
  }
 ],
 "metadata": {
  "kernelspec": {
   "display_name": "Python 3",
   "language": "python",
   "name": "python3"
  },
  "language_info": {
   "codemirror_mode": {
    "name": "ipython",
    "version": 3
   },
   "file_extension": ".py",
   "mimetype": "text/x-python",
   "name": "python",
   "nbconvert_exporter": "python",
   "pygments_lexer": "ipython3",
   "version": "3.7.9"
  }
 },
 "nbformat": 4,
 "nbformat_minor": 4
}
