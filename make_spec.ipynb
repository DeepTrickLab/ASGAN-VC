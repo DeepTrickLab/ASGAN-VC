{
 "cells": [
  {
   "cell_type": "code",
   "execution_count": 1,
   "metadata": {},
   "outputs": [],
   "source": [
    "import os\n",
    "import pickle\n",
    "import numpy as np\n",
    "import soundfile as sf\n",
    "import librosa\n",
    "from scipy import signal\n",
    "from scipy.signal import get_window\n",
    "from librosa.filters import mel\n",
    "from librosa.util import normalize\n",
    "from numpy.random import RandomState"
   ]
  },
  {
   "cell_type": "code",
   "execution_count": 2,
   "metadata": {},
   "outputs": [],
   "source": [
    "import torch\n",
    "import IPython.display as ipd"
   ]
  },
  {
   "cell_type": "code",
   "execution_count": 3,
   "metadata": {},
   "outputs": [],
   "source": [
    "# audio file directory\n",
    "rootDir = './test'\n",
    "# spectrogram directory\n",
    "targetDir = './spmel'"
   ]
  },
  {
   "cell_type": "code",
   "execution_count": 4,
   "metadata": {},
   "outputs": [
    {
     "name": "stdout",
     "output_type": "stream",
     "text": [
      "Found directory: ./test\n"
     ]
    }
   ],
   "source": [
    "dirName, subdirList, _ = next(os.walk(rootDir))\n",
    "print('Found directory: %s' % dirName)"
   ]
  },
  {
   "cell_type": "code",
   "execution_count": 5,
   "metadata": {},
   "outputs": [],
   "source": [
    "def mel_gan_handler(x, fft_length = 1024, hop_length = 256,sr = 22050):\n",
    "    wav = normalize(x)\n",
    "    p = (fft_length - hop_length) // 2\n",
    "    wav = np.squeeze(np.pad(wav, (p, p), \"reflect\"))\n",
    "    fft = librosa.stft(\n",
    "                       wav, \n",
    "                       n_fft = fft_length, \n",
    "                       hop_length = hop_length,\n",
    "                       window = 'hann',\n",
    "                       center = False\n",
    "                     )\n",
    "    # 這裡的 abs 是 sqrt(實部**2 + 虛部**2)\n",
    "    mag = abs(fft)\n",
    "    mel_basis = mel(sr, 1024, fmin = 0.0 , fmax=None, n_mels=80)\n",
    "    mel_output = np.dot(mel_basis,mag)\n",
    "    log_mel_spec = np.log10(np.maximum(1e-5,mel_output)).astype(np.float32)\n",
    "    return log_mel_spec"
   ]
  },
  {
   "cell_type": "code",
   "execution_count": 6,
   "metadata": {},
   "outputs": [],
   "source": [
    "target_fs = 22050"
   ]
  },
  {
   "cell_type": "code",
   "execution_count": 7,
   "metadata": {
    "scrolled": true,
    "tags": []
   },
   "outputs": [
    {
     "name": "stdout",
     "output_type": "stream",
     "text": [
      "p225\n",
      "p226\n",
      "p227\n"
     ]
    }
   ],
   "source": [
    "for subdir in sorted(subdirList):\n",
    "    print(subdir)\n",
    "    if not os.path.exists(os.path.join(targetDir, subdir)):\n",
    "        os.makedirs(os.path.join(targetDir, subdir))\n",
    "    _,_, fileList = next(os.walk(os.path.join(dirName,subdir)))\n",
    "    for fileName in sorted(fileList):\n",
    "        # Read audio file\n",
    "        x, fs = sf.read(os.path.join(dirName,subdir,fileName))\n",
    "        # if 雙聲道\n",
    "        if len(x.shape) > 1: \n",
    "            x = x[:,:1].squeeze()\n",
    "        # resample to target_rate\n",
    "        x = librosa.resample(x, fs, target_fs)\n",
    "        S = mel_gan_handler(x).T \n",
    "        # save spect    \n",
    "        np.save(os.path.join(targetDir, subdir, fileName[:-3]),\n",
    "                S.astype(np.float32), allow_pickle=False)"
   ]
  }
 ],
 "metadata": {
  "kernelspec": {
   "display_name": "Python 3",
   "language": "python",
   "name": "python3"
  },
  "language_info": {
   "codemirror_mode": {
    "name": "ipython",
    "version": 3
   },
   "file_extension": ".py",
   "mimetype": "text/x-python",
   "name": "python",
   "nbconvert_exporter": "python",
   "pygments_lexer": "ipython3",
   "version": "3.7.9"
  }
 },
 "nbformat": 4,
 "nbformat_minor": 5
}
