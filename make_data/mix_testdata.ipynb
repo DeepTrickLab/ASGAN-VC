{
 "cells": [
  {
   "cell_type": "code",
   "execution_count": 1,
   "metadata": {},
   "outputs": [],
   "source": [
    "import pickle\n",
    "import os\n",
    "import numpy as np"
   ]
  },
  {
   "cell_type": "code",
   "execution_count": 2,
   "metadata": {},
   "outputs": [],
   "source": [
    "num_uttrs = 1"
   ]
  },
  {
   "cell_type": "code",
   "execution_count": 3,
   "metadata": {},
   "outputs": [],
   "source": [
    "metadata = pickle.load(open(f'../train_data_vctk_ver2/train.pkl', \"rb\"))"
   ]
  },
  {
   "cell_type": "code",
   "execution_count": 4,
   "metadata": {},
   "outputs": [
    {
     "name": "stdout",
     "output_type": "stream",
     "text": [
      "Found directory: ./test_data_vctk_ver2\n"
     ]
    }
   ],
   "source": [
    "rootDir = './test_data_vctk_ver2'\n",
    "dirName, subdirList, _ = next(os.walk(rootDir))\n",
    "print('Found directory: %s' % dirName)"
   ]
  },
  {
   "cell_type": "code",
   "execution_count": 5,
   "metadata": {},
   "outputs": [],
   "source": [
    "def pad_along_axis(array: np.ndarray, target_length: int, axis: int = 0):\n",
    "    pad_size = target_length - array.shape[axis]\n",
    "    if pad_size <= 0:\n",
    "        return array\n",
    "    npad = [(0, 0)] * array.ndim\n",
    "    npad[axis] = (0, pad_size)\n",
    "    return np.pad(array, pad_width=npad, mode='constant', constant_values=0)"
   ]
  },
  {
   "cell_type": "code",
   "execution_count": 6,
   "metadata": {
    "scrolled": true
   },
   "outputs": [
    {
     "name": "stdout",
     "output_type": "stream",
     "text": [
      "Processing speaker: p225\n",
      "Processing speaker: p226\n",
      "Processing speaker: p227\n",
      "Processing speaker: p228\n",
      "Processing speaker: p229\n",
      "Processing speaker: p230\n",
      "Processing speaker: p231\n",
      "Processing speaker: p232\n",
      "Processing speaker: p233\n",
      "Processing speaker: p234\n",
      "Processing speaker: p236\n",
      "Processing speaker: p237\n",
      "Processing speaker: p238\n",
      "Processing speaker: p239\n",
      "Processing speaker: p240\n",
      "Processing speaker: p241\n",
      "Processing speaker: p243\n",
      "Processing speaker: p244\n",
      "Processing speaker: p245\n",
      "Processing speaker: p246\n",
      "Processing speaker: p247\n",
      "Processing speaker: p248\n",
      "Processing speaker: p249\n",
      "Processing speaker: p250\n",
      "Processing speaker: p251\n",
      "Processing speaker: p252\n",
      "Processing speaker: p253\n",
      "Processing speaker: p254\n",
      "Processing speaker: p255\n",
      "Processing speaker: p256\n",
      "Processing speaker: p257\n",
      "Processing speaker: p258\n",
      "Processing speaker: p259\n",
      "Processing speaker: p260\n",
      "Processing speaker: p261\n",
      "Processing speaker: p262\n",
      "Processing speaker: p263\n",
      "Processing speaker: p264\n",
      "Processing speaker: p265\n",
      "Processing speaker: p266\n",
      "Processing speaker: p267\n",
      "Processing speaker: p268\n",
      "Processing speaker: p269\n",
      "Processing speaker: p270\n",
      "Processing speaker: p271\n",
      "Processing speaker: p272\n",
      "Processing speaker: p273\n",
      "Processing speaker: p274\n",
      "Processing speaker: p275\n",
      "Processing speaker: p276\n",
      "Processing speaker: p277\n",
      "Processing speaker: p278\n",
      "Processing speaker: p279\n",
      "Processing speaker: p280\n",
      "Processing speaker: p281\n",
      "Processing speaker: p282\n",
      "Processing speaker: p283\n",
      "Processing speaker: p284\n",
      "Processing speaker: p285\n",
      "Processing speaker: p286\n",
      "Processing speaker: p287\n",
      "Processing speaker: p288\n",
      "Processing speaker: p292\n",
      "Processing speaker: p293\n",
      "Processing speaker: p294\n",
      "Processing speaker: p295\n",
      "Processing speaker: p297\n",
      "Processing speaker: p298\n",
      "Processing speaker: p299\n",
      "Processing speaker: p300\n",
      "Processing speaker: p301\n",
      "Processing speaker: p302\n",
      "Processing speaker: p303\n",
      "Processing speaker: p304\n",
      "Processing speaker: p305\n",
      "Processing speaker: p306\n",
      "Processing speaker: p307\n",
      "Processing speaker: p308\n",
      "Processing speaker: p310\n",
      "Processing speaker: p311\n"
     ]
    }
   ],
   "source": [
    "speakers = []\n",
    "for i,speaker in enumerate(sorted(subdirList)):\n",
    "    print('Processing speaker: %s' % speaker)\n",
    "    utterances = []\n",
    "    utterances.append(speaker)\n",
    "    _, _, fileList = next(os.walk(os.path.join(dirName,speaker)))\n",
    "    fileList = fileList[:num_uttrs]\n",
    "    utterances.append(metadata[i][1])\n",
    "    # create file list\n",
    "    for fileName in sorted(fileList):\n",
    "        utterances.append(os.path.join(speaker,fileName))\n",
    "    speakers.append(utterances)  "
   ]
  },
  {
   "cell_type": "code",
   "execution_count": 7,
   "metadata": {},
   "outputs": [],
   "source": [
    "with open(os.path.join(rootDir, 'test.pkl'), 'wb') as handle:\n",
    "    pickle.dump(speakers, handle)"
   ]
  },
  {
   "cell_type": "code",
   "execution_count": 8,
   "metadata": {},
   "outputs": [
    {
     "name": "stdout",
     "output_type": "stream",
     "text": [
      "['p225', array([ 2.94000730e-02,  8.49412307e-02,  3.36036384e-02,  4.80260886e-02,\n",
      "       -1.37088016e-01,  4.65250015e-02, -2.31759697e-02,  4.04562056e-02,\n",
      "        3.97773571e-02,  1.44706815e-02,  1.32575482e-02,  3.06497570e-02,\n",
      "       -1.42432228e-01, -5.67491688e-02,  9.56289247e-02,  2.02652160e-02,\n",
      "       -8.76541156e-03, -8.67393091e-02, -4.48450483e-02,  3.54567245e-02,\n",
      "        1.09810298e-02,  4.23685508e-03,  1.26434192e-02, -7.97471181e-02,\n",
      "       -6.78159967e-02,  7.11384341e-02,  2.43435465e-02,  1.94385052e-02,\n",
      "       -3.69564593e-02, -1.34097487e-02,  3.53082344e-02, -3.94113436e-02,\n",
      "        7.73243737e-05,  7.78194070e-02, -1.35065112e-02, -1.34031847e-02,\n",
      "        1.49765369e-02,  5.71568422e-02,  7.02558830e-02, -2.03650743e-02,\n",
      "       -1.09235384e-01,  7.38414899e-02, -1.67483259e-02,  3.28754932e-02,\n",
      "        4.50383388e-02, -3.77571583e-02, -7.54597560e-02, -7.93489534e-03,\n",
      "       -1.49284340e-02, -9.08459798e-02, -9.66846012e-03,  2.00639442e-02,\n",
      "       -4.58791927e-02, -4.27953824e-02,  5.68859167e-02,  3.27432267e-02,\n",
      "       -4.12303358e-02, -3.44431847e-02, -3.28109786e-02, -4.27857041e-02,\n",
      "        2.34572310e-02,  3.11519187e-02,  6.35336488e-02,  3.36027816e-02,\n",
      "        9.26501080e-02,  9.16046426e-02, -7.71869794e-02,  3.40619273e-02,\n",
      "        6.23027720e-02,  3.90468948e-02, -6.20750263e-02,  7.52890855e-02,\n",
      "       -7.39487037e-02,  2.42940318e-02, -4.27676402e-02,  9.55774337e-02,\n",
      "        6.13750098e-03,  5.14264405e-02,  3.61063033e-02, -6.84586167e-02,\n",
      "       -2.38707662e-02,  8.45178515e-02, -1.21347299e-02, -2.61166114e-02,\n",
      "       -1.04260193e-02, -2.00689454e-02,  4.67338897e-02,  4.53890525e-02,\n",
      "       -1.11640669e-01, -4.25677188e-02,  6.08412921e-02,  8.31860378e-02,\n",
      "        8.07397254e-03,  3.56403440e-02,  4.02877033e-02, -7.86858872e-02,\n",
      "        7.03376755e-02,  5.72125101e-03,  1.11431079e-02,  4.82085086e-02,\n",
      "        1.13969065e-01,  9.06371772e-02,  4.97595267e-03, -2.05784664e-02,\n",
      "        7.33135194e-02, -1.05443671e-02, -8.94172862e-02, -3.92647199e-02,\n",
      "        3.11345980e-02, -2.43883152e-02, -2.64086369e-02,  5.85922524e-02,\n",
      "        6.55507445e-02,  2.03841943e-02,  8.04965943e-03, -3.14289425e-03,\n",
      "        6.06072992e-02,  8.78078341e-02, -1.16989307e-01,  6.12199791e-02,\n",
      "       -3.02356444e-02,  6.39631376e-02, -3.50953415e-02,  1.77213233e-02,\n",
      "        3.59407663e-02, -2.15635579e-02,  5.56373112e-02,  4.88178283e-02,\n",
      "       -8.92971233e-02,  6.18739054e-02,  3.64261307e-03,  5.01779951e-02,\n",
      "       -6.52104020e-02,  4.60018441e-02,  1.05788074e-02, -8.22779983e-02,\n",
      "        6.20435774e-02, -1.45886641e-03, -7.82066286e-02,  8.57307389e-02,\n",
      "       -4.74989042e-03, -2.59184209e-03,  4.40530218e-02,  2.76307445e-02,\n",
      "       -3.17081437e-02,  2.43759565e-02,  2.10420378e-02, -2.36116140e-03,\n",
      "        1.40623167e-01,  1.34847254e-01, -5.76188453e-02, -6.34352118e-02,\n",
      "        3.52755040e-02, -3.72026814e-03, -3.33176628e-02,  1.10518690e-02,\n",
      "        1.41858589e-03,  2.29432508e-02,  3.02466918e-02, -4.23687436e-02,\n",
      "        1.79394737e-01,  3.11841127e-02, -5.40184565e-02, -2.19849646e-02,\n",
      "       -1.74876805e-02, -3.13815996e-02, -5.10566980e-02,  3.00789513e-02,\n",
      "       -5.30962599e-03,  2.70983651e-02, -5.01402505e-02,  1.34275839e-01,\n",
      "        2.89750770e-02,  6.87971935e-02,  2.48166788e-02,  2.51914025e-04,\n",
      "       -2.56711990e-02, -3.91138233e-02, -4.16428345e-04, -1.39077390e-02,\n",
      "        5.06449491e-02,  9.95742679e-02,  6.89226948e-03, -2.24722065e-02,\n",
      "        4.87852730e-02,  4.67148907e-02,  2.63504293e-02, -4.50805314e-02,\n",
      "        9.45355073e-02, -7.71058202e-02, -3.20450665e-04, -7.16517214e-03,\n",
      "        4.35746796e-02, -1.93972625e-02,  9.27943960e-02,  1.80193763e-02,\n",
      "       -1.36679867e-02,  2.19012145e-02,  3.90121937e-02,  8.60072970e-02,\n",
      "       -7.10022897e-02, -3.52941975e-02, -5.05495965e-02, -3.45375277e-02,\n",
      "        4.15847711e-02, -1.27671674e-01,  7.83284903e-02, -1.55043006e-01,\n",
      "        5.61227202e-02, -1.17367133e-02,  3.58952349e-03,  6.25010431e-02,\n",
      "       -4.52456623e-02, -4.99120727e-02,  2.40544844e-02, -6.63239434e-02,\n",
      "        5.72038628e-02, -3.02729644e-02,  1.64399017e-03, -6.73118979e-02,\n",
      "        7.41043910e-02,  2.95380950e-02, -1.41555080e-02, -4.46911044e-02,\n",
      "       -5.91204828e-03,  8.82232562e-02, -3.31418216e-03,  1.80514995e-02,\n",
      "        1.45175874e-01,  3.18288133e-02,  1.38297724e-03, -1.03973582e-01,\n",
      "        7.06908852e-02, -2.17169654e-02, -7.53937140e-02, -1.08816668e-01,\n",
      "        2.25952510e-02,  1.93928406e-02, -5.92935644e-02, -6.62777647e-02,\n",
      "        8.12542625e-03,  6.79311343e-03,  2.63650492e-02, -3.16180885e-02,\n",
      "        8.73146430e-02, -3.86378840e-02, -1.57962255e-02, -1.59106269e-01,\n",
      "        3.33740423e-03, -5.95981674e-03,  3.94599698e-02, -5.08979708e-02,\n",
      "        6.83952644e-02,  8.91818572e-03, -2.93613710e-02, -9.49029252e-02],\n",
      "      dtype=float32), 'p225\\\\p225_001..npy']\n"
     ]
    }
   ],
   "source": [
    "for data in speakers:\n",
    "    print(data)\n",
    "    break"
   ]
  },
  {
   "cell_type": "code",
   "execution_count": null,
   "metadata": {},
   "outputs": [],
   "source": []
  }
 ],
 "metadata": {
  "kernelspec": {
   "display_name": "Python 3",
   "language": "python",
   "name": "python3"
  },
  "language_info": {
   "codemirror_mode": {
    "name": "ipython",
    "version": 3
   },
   "file_extension": ".py",
   "mimetype": "text/x-python",
   "name": "python",
   "nbconvert_exporter": "python",
   "pygments_lexer": "ipython3",
   "version": "3.7.9"
  }
 },
 "nbformat": 4,
 "nbformat_minor": 4
}
