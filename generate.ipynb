{
 "cells": [
  {
   "cell_type": "code",
   "execution_count": 1,
   "metadata": {},
   "outputs": [],
   "source": [
    "import pickle\n",
    "import librosa\n",
    "import random\n",
    "import soundfile as sf\n",
    "import os\n",
    "import torch\n",
    "import numpy as np\n",
    "import IPython.display as ipd\n",
    "from util.convert import get_trans_mel,get_mel,convert,save_wave\n",
    "from factory.AutoVC import AutoVC\n",
    "from factory.ASGANVC import ASGANVC\n",
    "from factory.VQVC import VQVC\n",
    "from factory.AgainVC import AgainVC"
   ]
  },
  {
   "cell_type": "code",
   "execution_count": 2,
   "metadata": {},
   "outputs": [],
   "source": [
    "device = \"cuda:0\""
   ]
  },
  {
   "cell_type": "code",
   "execution_count": 3,
   "metadata": {},
   "outputs": [],
   "source": [
    "ROOT = \"train_spmel_vctk80\"\n",
    "SAVE_DIR = \"generate_wav\""
   ]
  },
  {
   "cell_type": "code",
   "execution_count": 4,
   "metadata": {},
   "outputs": [],
   "source": [
    "speakers = [20,59,54,45,11,35,3,41,12,0]\n",
    "model = ['autovc','asganvc','vqvc','againvc']\n",
    "sample_rate = 22050"
   ]
  },
  {
   "cell_type": "code",
   "execution_count": 5,
   "metadata": {},
   "outputs": [],
   "source": [
    "build_config = {'model_name': 'again', 'model': {'params': {'encoder_params': {'c_in': 80, 'c_h': 256, 'c_out': 4, 'n_conv_blocks': 6, 'subsample': [1, 1, 1, 1, 1, 1]}, 'decoder_params': {'c_in': 4, 'c_h': 256, 'c_out': 80, 'n_conv_blocks': 6, 'upsample': [1, 1, 1, 1, 1, 1]}, 'activation_params': {'act': 'sigmoid', 'params': {'alpha': 0.1}}}}, 'optimizer': {'params': {'lr': 0.0005, 'betas': [0.9, 0.999], 'amsgrad': True, 'weight_decay': 0.0001}, 'grad_norm': 3}}"
   ]
  },
  {
   "cell_type": "code",
   "execution_count": 6,
   "metadata": {},
   "outputs": [],
   "source": [
    "metadata = pickle.load(open(f'{ROOT}/train.pkl', \"rb\"))"
   ]
  },
  {
   "cell_type": "code",
   "execution_count": 7,
   "metadata": {},
   "outputs": [
    {
     "data": {
      "text/plain": [
       "<All keys matched successfully>"
      ]
     },
     "execution_count": 7,
     "metadata": {},
     "output_type": "execute_result"
    }
   ],
   "source": [
    "autovc =  AutoVC(32,256,512,16).to(device)\n",
    "autovc.load_state_dict(torch.load(\"model/autovc_128.pt\", map_location=device))\n",
    "asganvc =  ASGANVC(32,256,512,16).to(device)\n",
    "asganvc.load_state_dict(torch.load(\"model/asganvc_128.pt\", map_location=device))\n",
    "vqvc = VQVC(80,64,64).to(device)\n",
    "vqvc.load_state_dict(torch.load(\"model/vqvc+.pt\", map_location=device))\n",
    "againvc = AgainVC(**build_config['model']['params']).to(\"cuda:0\")\n",
    "againvc.load_state_dict(torch.load(\"model/againvc.pt\",map_location=\"cuda:0\"))"
   ]
  },
  {
   "cell_type": "code",
   "execution_count": 8,
   "metadata": {},
   "outputs": [],
   "source": [
    "for sp in speakers:\n",
    "    sound_id = random.randint(3,7) #7\n",
    "    t_id = random.randint(8,10)\n",
    "    source_path = metadata[sp][sound_id].replace(\"\\\\\", \"/\")\n",
    "    target_path = metadata[sp][t_id].replace(\"\\\\\", \"/\")\n",
    "    mel_source = np.load(f\"{ROOT}/{source_path}\")\n",
    "    mel_target = np.load(f\"{ROOT}/{target_path}\")\n",
    "    source_wave = librosa.effects.trim(convert( torch.from_numpy(mel_source).unsqueeze(0)), top_db=20)[0]\n",
    "    target_wave = librosa.effects.trim(convert( torch.from_numpy(mel_target).unsqueeze(0)), top_db=20)[0]\n",
    "    save_wave(f'{SAVE_DIR}/target/target_{sp}.wav',target_wave,sample_rate)\n",
    "    save_wave(f'{SAVE_DIR}/source/source_{sp}.wav',source_wave,sample_rate)"
   ]
  },
  {
   "cell_type": "code",
   "execution_count": 9,
   "metadata": {},
   "outputs": [],
   "source": [
    "for sp_s in speakers:\n",
    "    for md in model:\n",
    "        try:\n",
    "            os.makedirs(f'{SAVE_DIR}/{md}/{sp}')     \n",
    "        except:\n",
    "            pass"
   ]
  },
  {
   "cell_type": "code",
   "execution_count": 10,
   "metadata": {},
   "outputs": [],
   "source": [
    "for sp_s in speakers:\n",
    "    sound_id = random.randint(3,13) \n",
    "    source_path = metadata[sp_s][sound_id].replace(\"\\\\\", \"/\")\n",
    "    mel_source = np.load(f\"{ROOT}/{source_path}\")\n",
    "    emb_org = torch.from_numpy(metadata[sp_s][1]).unsqueeze(0).to(device)\n",
    "    source_wave = librosa.effects.trim(convert( torch.from_numpy(mel_source).unsqueeze(0)), top_db=20)[0]\n",
    "    save_wave(f'{SAVE_DIR}/source/source_{sp_s}.wav',source_wave,sample_rate)\n",
    "    \n",
    "    for sp_t in speakers:\n",
    "        if sp_t != sp_s:\n",
    "            target_id  = random.randint(3,13)\n",
    "            target_path = metadata[sp_t][target_id].replace(\"\\\\\", \"/\")\n",
    "            mel_target = np.load(f\"{ROOT}/{target_path}\")\n",
    "            emb_trg = torch.from_numpy(metadata[sp_t][1]).unsqueeze(0).to(device)\n",
    "            for md in model:\n",
    "                if md == 'autovc':\n",
    "                    wave = get_trans_mel( \n",
    "        autovc,\n",
    "        mel_source,\n",
    "        mel_target,\n",
    "        emb_org,\n",
    "        emb_trg,\n",
    "        isAdain=False,\n",
    "        isVQ=False,\n",
    "        isAgainVC=False)\n",
    "                elif md == 'asganvc':\n",
    "                    wave = get_trans_mel( \n",
    "        asganvc,\n",
    "        mel_source,\n",
    "        mel_target,\n",
    "        emb_org,\n",
    "        emb_trg,\n",
    "        isAdain=False,\n",
    "        isVQ=False,\n",
    "        isAgainVC=False)\n",
    "                \n",
    "                elif md == 'vqvc':\n",
    "                    wave = get_trans_mel( \n",
    "        vqvc,\n",
    "        mel_source,\n",
    "        mel_target,\n",
    "        emb_org,\n",
    "        emb_trg,\n",
    "        isAdain=False,\n",
    "        isVQ=True,\n",
    "        isAgainVC=False)\n",
    "                    \n",
    "                else:\n",
    "                    wave = get_trans_mel( \n",
    "        againvc,\n",
    "        mel_source,\n",
    "        mel_target,\n",
    "        emb_org,\n",
    "        emb_trg,\n",
    "        isAdain=False,\n",
    "        isVQ=False,\n",
    "        isAgainVC=True)   \n",
    "                save_wave(f'{SAVE_DIR}/{md}/{sp_s}/{sp_t}.wav',wave,sample_rate)    "
   ]
  },
  {
   "cell_type": "code",
   "execution_count": null,
   "metadata": {},
   "outputs": [],
   "source": []
  }
 ],
 "metadata": {
  "kernelspec": {
   "display_name": "Python 3",
   "language": "python",
   "name": "python3"
  },
  "language_info": {
   "codemirror_mode": {
    "name": "ipython",
    "version": 3
   },
   "file_extension": ".py",
   "mimetype": "text/x-python",
   "name": "python",
   "nbconvert_exporter": "python",
   "pygments_lexer": "ipython3",
   "version": "3.7.9"
  }
 },
 "nbformat": 4,
 "nbformat_minor": 4
}
