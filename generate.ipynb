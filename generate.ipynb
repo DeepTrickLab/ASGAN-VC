{
 "cells": [
  {
   "cell_type": "code",
   "execution_count": 1,
   "metadata": {},
   "outputs": [],
   "source": [
    "import pickle\n",
    "import os\n",
    "import numpy as np\n",
    "import torch\n",
    "import random\n",
    "import soundfile as sf\n",
    "from factory.AutoVC import AutoVC"
   ]
  },
  {
   "cell_type": "code",
   "execution_count": 2,
   "metadata": {},
   "outputs": [],
   "source": [
    "from util.evaluate import Evaluator"
   ]
  },
  {
   "cell_type": "code",
   "execution_count": 3,
   "metadata": {},
   "outputs": [],
   "source": [
    "NAME = \"autovc2\"\n",
    "ROOT = \"train_data_vctk_ver2\"\n",
    "TAGET = f\"mos_data_{NAME}\"\n",
    "MODEL = f\"{NAME}_en.pt\""
   ]
  },
  {
   "cell_type": "code",
   "execution_count": 4,
   "metadata": {},
   "outputs": [],
   "source": [
    "class Config:\n",
    "    def __init__(self,root):\n",
    "        self.root = root\n",
    "        self.num_speaker = 40\n",
    "        self.batch_size = 2\n",
    "        self.erroment_num = 16\n",
    "        self.max_uttr_idx = 60\n",
    "        self.len_crop = 176\n",
    "        self.device = \"cuda:0\"\n",
    "        self.embedder = None\n",
    "        self.pick_speaker = sorted(next(iter(os.walk(root)))[1][:self.num_speaker])\n",
    "        self.metadata = pickle.load(open(f'{root}/train.pkl', \"rb\"))"
   ]
  },
  {
   "cell_type": "code",
   "execution_count": 5,
   "metadata": {},
   "outputs": [],
   "source": [
    "config = Config(ROOT)"
   ]
  },
  {
   "cell_type": "code",
   "execution_count": 6,
   "metadata": {
    "scrolled": true
   },
   "outputs": [],
   "source": [
    "E = Evaluator(config)"
   ]
  },
  {
   "cell_type": "code",
   "execution_count": 7,
   "metadata": {},
   "outputs": [],
   "source": [
    "isadain = False"
   ]
  },
  {
   "cell_type": "code",
   "execution_count": 11,
   "metadata": {},
   "outputs": [],
   "source": [
    "for speaker in config.pick_speaker:\n",
    "    try:\n",
    "        os.mkdir(f\"{TAGET}/{speaker}\")\n",
    "    except:\n",
    "        pass"
   ]
  },
  {
   "cell_type": "code",
   "execution_count": 12,
   "metadata": {},
   "outputs": [
    {
     "data": {
      "text/plain": [
       "<All keys matched successfully>"
      ]
     },
     "execution_count": 12,
     "metadata": {},
     "output_type": "execute_result"
    }
   ],
   "source": [
    "org = AutoVC(44,256,512,22).to(config.device)\n",
    "org.load_state_dict(torch.load(f\"model/{MODEL}\", map_location=config.device))"
   ]
  },
  {
   "cell_type": "code",
   "execution_count": 13,
   "metadata": {
    "scrolled": true
   },
   "outputs": [
    {
     "name": "stdout",
     "output_type": "stream",
     "text": [
      "Processing p225\n",
      "Processing p226\n",
      "Processing p227\n",
      "Processing p228\n",
      "Processing p229\n",
      "Processing p230\n",
      "Processing p231\n",
      "Processing p232\n",
      "Processing p233\n",
      "Processing p234\n",
      "Processing p236\n",
      "Processing p237\n",
      "Processing p238\n",
      "Processing p239\n",
      "Processing p240\n",
      "Processing p241\n",
      "Processing p243\n",
      "Processing p244\n",
      "Processing p245\n",
      "Processing p246\n",
      "Processing p247\n",
      "Processing p248\n",
      "Processing p249\n",
      "Processing p250\n",
      "Processing p251\n",
      "Processing p252\n",
      "Processing p253\n",
      "Processing p254\n",
      "Processing p255\n",
      "Processing p256\n",
      "Processing p257\n",
      "Processing p258\n",
      "Processing p259\n",
      "Processing p260\n",
      "Processing p261\n",
      "Processing p262\n",
      "Processing p263\n",
      "Processing p264\n",
      "Processing p265\n",
      "Processing p266\n"
     ]
    }
   ],
   "source": [
    "for source_id, data in enumerate(E.metadata):\n",
    "    sp_s = data[0]\n",
    "    print(f\"Processing {sp_s}\")\n",
    "    for target_id,_ in enumerate(E.metadata): \n",
    "        for i in range(5):\n",
    "            _,_, mel_trans_org = E.get_trans_mel(org, source_id, target_id,i+2,isadain,isPlay=True)\n",
    "            wav_org = E.get_wavs(mel_trans_org.transpose(2,1)).detach().cpu().numpy()[0].astype(np.float32)\n",
    "            sf.write(f\"{TAGET}/{sp_s}/{source_id}_{target_id}_{i}.wav\",wav_org,samplerate=22050)"
   ]
  },
  {
   "cell_type": "code",
   "execution_count": null,
   "metadata": {},
   "outputs": [],
   "source": []
  }
 ],
 "metadata": {
  "kernelspec": {
   "display_name": "Python 3",
   "language": "python",
   "name": "python3"
  },
  "language_info": {
   "codemirror_mode": {
    "name": "ipython",
    "version": 3
   },
   "file_extension": ".py",
   "mimetype": "text/x-python",
   "name": "python",
   "nbconvert_exporter": "python",
   "pygments_lexer": "ipython3",
   "version": "3.7.9"
  }
 },
 "nbformat": 4,
 "nbformat_minor": 4
}
